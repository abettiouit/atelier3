{
  "nbformat": 4,
  "nbformat_minor": 0,
  "metadata": {
    "colab": {
      "provenance": []
    },
    "kernelspec": {
      "name": "python3",
      "display_name": "Python 3"
    },
    "language_info": {
      "name": "python"
    }
  },
  "cells": [
    {
      "cell_type": "markdown",
      "source": [
        "**AHMED BETTIOUIT**\n",
        "\n",
        "Module :  Langage de programmation\n",
        "\n",
        "\n",
        "Atelier 3"
      ],
      "metadata": {
        "id": "sa9evsdPVp2Y"
      }
    },
    {
      "cell_type": "markdown",
      "source": [
        "Définir une classe Vecteur2D avec un constructeur fournissant les coordonnées par\n",
        "défaut d’un vecteur du plan (par exemple : x = 0 et y = 0).\n",
        "Dans le programme principal, instanciez un Vecteur2D sans paramètre,\n",
        "un Vecteur2D avec ses deux paramètres, et affichez-les.\n",
        "Enrichissez la classe Vecteur2D précédente en lui ajoutant une méthode d’affichage et\n",
        "une méthode de surcharge d’addition de deux vecteurs du plan.\n",
        "Dans le programme principal, instanciez deux Vecteur2D, affichez-les et affichez leur\n",
        "somme.\n"
      ],
      "metadata": {
        "id": "ETPtG-x4Vuze"
      }
    },
    {
      "cell_type": "code",
      "source": [
        "class Vecteur2D:\n",
        "  def __init__(self, x=0, y=0):\n",
        "    self.x =x\n",
        "    self.y = y\n",
        "\n",
        "  def afficher(self):\n",
        "    print(f\"Vecteur2D : x = {self.x}, y = {self.y}\")\n",
        "  def __add__(self, other):\n",
        "    return Vecteur2D(self.x + other.x, self.y + other.y)\n",
        "\n",
        "  \n",
        "\n",
        "vecteur1 = Vecteur2D()\n",
        "vecteur1.afficher()  \n",
        "vecteur2 = Vecteur2D(2, 3)\n",
        "vecteur2.afficher()\n",
        "vecteur3 = Vecteur2D(1, 2)\n",
        "vecteur4 = Vecteur2D(3, 4)\n",
        "\n",
        "somme = vecteur3 + vecteur4\n",
        "somme.afficher()\n",
        "\n",
        "\n",
        "\n"
      ],
      "metadata": {
        "colab": {
          "base_uri": "https://localhost:8080/"
        },
        "id": "oTYREq9aV2xk",
        "outputId": "978aa0f1-fc65-4f8a-c55a-bbea9f792ae6"
      },
      "execution_count": 10,
      "outputs": [
        {
          "output_type": "stream",
          "name": "stdout",
          "text": [
            "Vecteur2D : x = 0, y = 0\n",
            "Vecteur2D : x = 2, y = 3\n",
            "Vecteur2D : x = 4, y = 6\n"
          ]
        }
      ]
    },
    {
      "cell_type": "markdown",
      "source": [
        "Définir une classe Rectangle avec un constructeur donnant des valeurs\n",
        "(longueur et largeur) par défaut et un attribut nom = \"rectangle\", une méthode\n",
        "d’affichage et une méthode surface renvoyant la surface d’une instance.\n",
        "Définir une classe Carre héritant de Rectangle et qui surcharge l’attribut\n",
        "d’instance : nom = \"carré\".\n",
        "Dans le programme principal, instanciez un Rectangle et un Carre et affichez-les."
      ],
      "metadata": {
        "id": "yErwdTNuY4Fb"
      }
    },
    {
      "cell_type": "code",
      "source": [
        "class Rectangle:\n",
        "  def __init__(self, longueur=1, largeur=1, nom=\"rectangle\"):\n",
        "    self.longueur = longueur\n",
        "    self.largeur = largeur\n",
        "    self.nom = nom\n",
        "\n",
        "  def afficher(self):\n",
        "    print(f\"Je suis un {self.nom} de longueur {self.longueur} et de largeur {self.largeur}.\")\n",
        "\n",
        "  def surface(self):\n",
        "    return self.longueur * self.largeur\n",
        "\n",
        "class Carre(Rectangle):\n",
        "  def __init__(self, cote=1):\n",
        "    super().__init__(cote, cote, \"carré\")\n",
        "\n",
        "# Programme principal\n",
        "rectangle = Rectangle(2, 3)\n",
        "rectangle.afficher()\n",
        "print(f\"Surface : {rectangle.surface()}\")\n",
        "\n",
        "carre = Carre(4)\n",
        "carre.afficher()\n",
        "print(f\"Surface : {carre.surface()}\")\n"
      ],
      "metadata": {
        "colab": {
          "base_uri": "https://localhost:8080/"
        },
        "id": "tR9EzylLZyCo",
        "outputId": "788bb4ae-dcb0-4dd0-cc13-329b1e163b0e"
      },
      "execution_count": 11,
      "outputs": [
        {
          "output_type": "stream",
          "name": "stdout",
          "text": [
            "Je suis un rectangle de longueur 2 et de largeur 3.\n",
            "Surface : 6\n",
            "Je suis un carré de longueur 4 et de largeur 4.\n",
            "Surface : 16\n"
          ]
        }
      ]
    },
    {
      "cell_type": "markdown",
      "source": [],
      "metadata": {
        "id": "Ivzm5ruDVbsP"
      }
    }
  ]
}